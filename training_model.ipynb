{
 "cells": [
  {
   "cell_type": "code",
   "execution_count": null,
   "metadata": {},
   "outputs": [],
   "source": [
    "\n",
    "import torch \n",
    "from torch import nn \n",
    "from torch.utils.data import DataLoader\n",
    "from torchvision import transforms, datasets\n",
    "import torchinfo \n",
    "\n",
    "from models import Generator\n",
    "from models import Discriminator\n",
    "from trainer import train_models\n",
    "\n",
    "from pathlib import Path"
   ]
  },
  {
   "cell_type": "code",
   "execution_count": null,
   "metadata": {},
   "outputs": [],
   "source": [
    "# Device agnostic code\n",
    "\n",
    "if torch.cuda.is_available():\n",
    "    device = 'cuda'\n",
    "else:\n",
    "    device = 'cpu'\n",
    "device"
   ]
  },
  {
   "cell_type": "code",
   "execution_count": null,
   "metadata": {},
   "outputs": [],
   "source": [
    "# Hyperparameters \n",
    "\n",
    "START_STEP = 8\n",
    "END_STEP = 8\n",
    "LEARNING_RATE = 1e-4\n",
    "BATCH_SIZES = [16, 16, 16, 16, 16, 8, 5, 4, 2]\n",
    "LATENT_DIM = 512\n",
    "LAMBDA_GP = 10\n",
    "IMG_CHANNELS = 3\n",
    "\n",
    "PROGRESSIVE_EPOCHS = [10] * len(BATCH_SIZES)\n",
    "torch.manual_seed(42)\n",
    "FIXED_NOISE = torch.randn(8, LATENT_DIM, 1, 1).to(device)\n",
    "torch.seed()\n",
    "\n",
    "ROOT_DIR = 'CelebaHQ'\n",
    "GENERATOR_SAVE_PATH = 'Models/first_generator.pth'\n",
    "DISCRIMINATOR_SAVE_PATH = 'Models/first_discriminator.pth'\n",
    "RESULT_SAVE_PATH = 'Results'"
   ]
  },
  {
   "cell_type": "code",
   "execution_count": null,
   "metadata": {},
   "outputs": [],
   "source": [
    "# Initialising models \n",
    "\n",
    "generator = Generator(in_channels=LATENT_DIM, out_channels=IMG_CHANNELS).to(device)\n",
    "discriminator = Discriminator(latent_channels=LATENT_DIM, img_channels=IMG_CHANNELS).to(device)"
   ]
  },
  {
   "cell_type": "code",
   "execution_count": null,
   "metadata": {},
   "outputs": [],
   "source": [
    "# Loss functions and grad scalers \n",
    "\n",
    "g_optimizer = torch.optim.Adam(params=generator.parameters(), lr=LEARNING_RATE, betas=(0.0, 0.99))\n",
    "d_optimizer = torch.optim.Adam(params=discriminator.parameters(), lr=LEARNING_RATE, betas=(0.0, 0.99))\n",
    "g_scaler = torch.cuda.amp.GradScaler()\n",
    "d_scaler = torch.cuda.amp.GradScaler()"
   ]
  },
  {
   "cell_type": "code",
   "execution_count": null,
   "metadata": {},
   "outputs": [],
   "source": [
    "model_file = Path(GENERATOR_SAVE_PATH)\n",
    "if model_file.is_file():\n",
    "    generator.load_state_dict(torch.load(f=GENERATOR_SAVE_PATH))\n",
    "    print(\"1) Exists\")\n",
    "else:\n",
    "    print(\"1) Created\")\n",
    "\n",
    "model_file = Path(DISCRIMINATOR_SAVE_PATH)\n",
    "if model_file.is_file():\n",
    "    discriminator.load_state_dict(torch.load(f=DISCRIMINATOR_SAVE_PATH))\n",
    "    print(\"2) Exists\")\n",
    "else:\n",
    "    print(\"2) Created\")"
   ]
  },
  {
   "cell_type": "code",
   "execution_count": null,
   "metadata": {},
   "outputs": [],
   "source": [
    "train_models(generator=generator, \n",
    "             discriminator=discriminator, \n",
    "             g_optimizer=g_optimizer, \n",
    "             d_optimizer=d_optimizer, \n",
    "             g_scaler=g_scaler, \n",
    "             d_scaler=d_scaler,\n",
    "             BATCH_SIZES=BATCH_SIZES, \n",
    "             PROGRESSIVE_EPOCHS=PROGRESSIVE_EPOCHS, \n",
    "             LATENT_DIM=LATENT_DIM, \n",
    "             LAMBDA_GP=LAMBDA_GP, \n",
    "             START_STEP=START_STEP, \n",
    "             END_STEP=END_STEP, \n",
    "             FIXED_NOISE=FIXED_NOISE, \n",
    "             ROOT_DIR=ROOT_DIR,\n",
    "             g_path=GENERATOR_SAVE_PATH, \n",
    "             d_path=DISCRIMINATOR_SAVE_PATH, \n",
    "             result_path=RESULT_SAVE_PATH,\n",
    "             device=device)"
   ]
  }
 ],
 "metadata": {
  "kernelspec": {
   "display_name": "TorchEnv2",
   "language": "python",
   "name": "python3"
  },
  "language_info": {
   "codemirror_mode": {
    "name": "ipython",
    "version": 3
   },
   "file_extension": ".py",
   "mimetype": "text/x-python",
   "name": "python",
   "nbconvert_exporter": "python",
   "pygments_lexer": "ipython3",
   "version": "3.12.4"
  }
 },
 "nbformat": 4,
 "nbformat_minor": 2
}
