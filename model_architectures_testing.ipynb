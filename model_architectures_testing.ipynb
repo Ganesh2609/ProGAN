{
 "cells": [
  {
   "cell_type": "code",
   "execution_count": 1,
   "metadata": {},
   "outputs": [],
   "source": [
    "import torch \n",
    "from torch import nn \n",
    "from models import Generator\n",
    "from models import Discriminator\n",
    "from torchinfo import summary"
   ]
  },
  {
   "cell_type": "code",
   "execution_count": 5,
   "metadata": {},
   "outputs": [
    {
     "data": {
      "text/plain": [
       "========================================================================================================================\n",
       "Layer (type (var_name))                  Input Shape          Output Shape         Param #              Trainable\n",
       "========================================================================================================================\n",
       "Generator (Generator)                    [4, 512, 1, 1]       [4, 3, 4, 4]         16,516,832           True\n",
       "├─Sequential (initial_conv)              [4, 512, 1, 1]       [4, 512, 4, 4]       --                   True\n",
       "│    └─PixelNorm (0)                     [4, 512, 1, 1]       [4, 512, 1, 1]       --                   --\n",
       "│    └─WSConv2d (1)                      [4, 512, 1, 1]       [4, 512, 4, 4]       512                  True\n",
       "│    │    └─ConvTranspose2d (conv)       [4, 512, 1, 1]       [4, 512, 4, 4]       4,194,304            True\n",
       "│    └─LeakyReLU (2)                     [4, 512, 4, 4]       [4, 512, 4, 4]       --                   --\n",
       "│    └─PixelNorm (3)                     [4, 512, 4, 4]       [4, 512, 4, 4]       --                   --\n",
       "│    └─WSConv2d (4)                      [4, 512, 4, 4]       [4, 512, 4, 4]       512                  True\n",
       "│    │    └─Conv2d (conv)                [4, 512, 4, 4]       [4, 512, 4, 4]       2,359,296            True\n",
       "│    └─LeakyReLU (5)                     [4, 512, 4, 4]       [4, 512, 4, 4]       --                   --\n",
       "│    └─PixelNorm (6)                     [4, 512, 4, 4]       [4, 512, 4, 4]       --                   --\n",
       "├─ModuleList (rgb_blocks)                --                   --                   6,120                True\n",
       "│    └─WSConv2d (0)                      [4, 512, 4, 4]       [4, 3, 4, 4]         3                    True\n",
       "│    │    └─Conv2d (conv)                [4, 512, 4, 4]       [4, 3, 4, 4]         1,536                True\n",
       "========================================================================================================================\n",
       "Total params: 23,079,115\n",
       "Trainable params: 23,079,115\n",
       "Non-trainable params: 0\n",
       "Total mult-adds (Units.MEGABYTES): 419.53\n",
       "========================================================================================================================\n",
       "Input size (MB): 0.01\n",
       "Forward/backward pass size (MB): 0.53\n",
       "Params size (MB): 26.22\n",
       "Estimated Total Size (MB): 26.75\n",
       "========================================================================================================================"
      ]
     },
     "execution_count": 5,
     "metadata": {},
     "output_type": "execute_result"
    }
   ],
   "source": [
    "generator = Generator(in_channels=512, out_channels=3).cuda()\n",
    "\n",
    "rnd_noise = torch.randn(4, 512, 1, 1).cuda()\n",
    "summary(model=generator, \n",
    "        input_data=(rnd_noise, 0.5, 0),\n",
    "        col_names=['input_size', 'output_size', 'num_params', 'trainable'],\n",
    "        col_width=20,\n",
    "        row_settings=['var_names'])"
   ]
  },
  {
   "cell_type": "code",
   "execution_count": 3,
   "metadata": {},
   "outputs": [
    {
     "data": {
      "text/plain": [
       "========================================================================================================================\n",
       "Layer (type (var_name))                  Input Shape          Output Shape         Param #              Trainable\n",
       "========================================================================================================================\n",
       "Discriminator (Discriminator)            [4, 3, 4, 4]         [4, 1]               18,874,816           True\n",
       "├─ModuleList (from_rgb_block)            --                   --                   8,128                True\n",
       "│    └─WSConv2d (8)                      [4, 3, 4, 4]         [4, 512, 4, 4]       512                  True\n",
       "│    │    └─Conv2d (conv)                [4, 3, 4, 4]         [4, 512, 4, 4]       1,536                True\n",
       "├─LeakyReLU (leaky_relu)                 [4, 512, 4, 4]       [4, 512, 4, 4]       --                   --\n",
       "├─Sequential (final_conv)                [4, 513, 4, 4]       [4, 1, 1, 1]         --                   True\n",
       "│    └─WSConv2d (0)                      [4, 513, 4, 4]       [4, 512, 4, 4]       512                  True\n",
       "│    │    └─Conv2d (conv)                [4, 513, 4, 4]       [4, 512, 4, 4]       2,363,904            True\n",
       "│    └─LeakyReLU (1)                     [4, 512, 4, 4]       [4, 512, 4, 4]       --                   --\n",
       "│    └─WSConv2d (2)                      [4, 512, 4, 4]       [4, 512, 1, 1]       512                  True\n",
       "│    │    └─Conv2d (conv)                [4, 512, 4, 4]       [4, 512, 1, 1]       4,194,304            True\n",
       "│    └─LeakyReLU (3)                     [4, 512, 1, 1]       [4, 512, 1, 1]       --                   --\n",
       "│    └─WSConv2d (4)                      [4, 512, 1, 1]       [4, 1, 1, 1]         1                    True\n",
       "│    │    └─Conv2d (conv)                [4, 512, 1, 1]       [4, 1, 1, 1]         512                  True\n",
       "========================================================================================================================\n",
       "Total params: 25,444,737\n",
       "Trainable params: 25,444,737\n",
       "Non-trainable params: 0\n",
       "Total mult-adds (Units.MEGABYTES): 168.17\n",
       "========================================================================================================================\n",
       "Input size (MB): 0.00\n",
       "Forward/backward pass size (MB): 0.54\n",
       "Params size (MB): 26.24\n",
       "Estimated Total Size (MB): 26.78\n",
       "========================================================================================================================"
      ]
     },
     "execution_count": 3,
     "metadata": {},
     "output_type": "execute_result"
    }
   ],
   "source": [
    "discriminator = Discriminator(latent_channels=512, img_channels=3).cuda()\n",
    "\n",
    "rnd_img = torch.randn(4, 3, 4, 4).cuda()\n",
    "summary(model=discriminator, \n",
    "        input_data=(rnd_img, 0.5, 0),\n",
    "        col_names=['input_size', 'output_size', 'num_params', 'trainable'],\n",
    "        col_width=20,\n",
    "        row_settings=['var_names'])"
   ]
  }
 ],
 "metadata": {
  "kernelspec": {
   "display_name": "TorchEnv2",
   "language": "python",
   "name": "python3"
  },
  "language_info": {
   "codemirror_mode": {
    "name": "ipython",
    "version": 3
   },
   "file_extension": ".py",
   "mimetype": "text/x-python",
   "name": "python",
   "nbconvert_exporter": "python",
   "pygments_lexer": "ipython3",
   "version": "3.12.4"
  }
 },
 "nbformat": 4,
 "nbformat_minor": 2
}
